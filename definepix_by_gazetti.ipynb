{
 "cells": [
  {
   "cell_type": "markdown",
   "id": "7e22da7e",
   "metadata": {},
   "source": [
    "Programa com IA que identifica se usuário entrou: CPF, CNPJ, e-mail, celular ou chave aleatória\n"
   ]
  },
  {
   "cell_type": "code",
   "execution_count": 7,
   "id": "69c97b9d",
   "metadata": {},
   "outputs": [
    {
     "name": "stdout",
     "output_type": "stream",
     "text": [
      "Digite a Chave PIX (ex.: cel.(##)99999-9999 ): 546545465454654654654\n",
      "\n",
      "\n",
      "\n",
      "\n",
      "chave inválida\n",
      "Digite a Chave PIX (ex.: cel.(##)99999-9999 ): (11)930060958\n",
      "\n",
      "\n",
      "\n",
      "\n",
      "vc digitou um telefone!\n"
     ]
    }
   ],
   "source": [
    "#sub-Programa que identifica o tipo de chave PIX - by Gazetti\n",
    "\n",
    "tam_chave = 0\n",
    "chave_valida = False\n",
    "\n",
    "#identifica o tipo de chave\n",
    "\n",
    "while chave_valida == False :\n",
    "    chave = input('Digite a Chave PIX (ex.: cel.(##)99999-9999 ): ')\n",
    "    tam_chave = len(chave)\n",
    "    print('\\n\\n\\n')\n",
    "    \n",
    "    if tam_chave == 14 and not '@' in chave :\n",
    "        print('vc digitou um CNPJ!')\n",
    "        chave_valida = True\n",
    "    elif tam_chave > 14 and '-' in chave :\n",
    "        print('vc digitou uma chave aleatória')\n",
    "        chave_valida = True\n",
    "    elif '@' in chave and '.' in chave :\n",
    "        print('vc digitou um e-mail')\n",
    "        chave_valida = True\n",
    "    elif tam_chave == 11 :\n",
    "        print('vc digitou um CPF! ')\n",
    "        chave_valida = True\n",
    "    elif '(' in chave[0] and ')' in chave[3] :\n",
    "        print('vc digitou um telefone!')\n",
    "        chave_valida = True\n",
    "    else:\n",
    "        print('chave inválida')\n",
    "        chave_valida = False\n",
    "\n"
   ]
  },
  {
   "cell_type": "code",
   "execution_count": null,
   "id": "c6855ec5",
   "metadata": {},
   "outputs": [],
   "source": []
  }
 ],
 "metadata": {
  "kernelspec": {
   "display_name": "Python 3 (ipykernel)",
   "language": "python",
   "name": "python3"
  },
  "language_info": {
   "codemirror_mode": {
    "name": "ipython",
    "version": 3
   },
   "file_extension": ".py",
   "mimetype": "text/x-python",
   "name": "python",
   "nbconvert_exporter": "python",
   "pygments_lexer": "ipython3",
   "version": "3.9.12"
  }
 },
 "nbformat": 4,
 "nbformat_minor": 5
}
